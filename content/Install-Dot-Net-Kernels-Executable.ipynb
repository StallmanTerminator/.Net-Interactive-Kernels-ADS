{
    "metadata": {
        "kernelspec": {
            "name": "python3",
            "display_name": "Python 3",
            "language": "python"
        },
        "language_info": {
            "name": "python",
            "version": "3.9.2",
            "mimetype": "text/x-python",
            "codemirror_mode": {
                "name": "ipython",
                "version": 3
            },
            "pygments_lexer": "ipython3",
            "nbconvert_exporter": "python",
            "file_extension": ".py"
        }
    },
    "nbformat_minor": 2,
    "nbformat": 4,
    "cells": [
        {
            "cell_type": "markdown",
            "source": [
                "# How to Install .NET Interactive & Use it in ADS\n",
                "### Pre-Requisites:\n",
                "- The [.NET 5.0 SDK](https://dotnet.microsoft.com/download)\n",
                "    \n",
                "- Jupyter"
            ],
            "metadata": {
                "azdata_cell_guid": "d59283b6-5987-4d18-90af-9e267c7010ee"
            }
        },
        {
            "cell_type": "code",
            "source": [
                "import sys\r\n",
                "!{sys.executable} -m jupyter kernelspec list"
            ],
            "metadata": {
                "azdata_cell_guid": "ccea6548-0086-407d-9599-97fb3bd2cd50"
            },
            "outputs": [],
            "execution_count": null
        },
        {
            "cell_type": "markdown",
            "source": [
                "### Next, install the `dotnet interactive` global tool:"
            ],
            "metadata": {
                "azdata_cell_guid": "39d5c835-5078-4020-8303-b1e140ad4aaf"
            }
        },
        {
            "cell_type": "code",
            "source": [
                "!dotnet tool install --global Microsoft.dotnet-interactive"
            ],
            "metadata": {
                "azdata_cell_guid": "09ad2f5a-88b9-433d-aff0-720e4ab4ed63"
            },
            "outputs": [],
            "execution_count": null
        },
        {
            "cell_type": "markdown",
            "source": [
                "### Install the .NET kernel by running the following:"
            ],
            "metadata": {
                "azdata_cell_guid": "fc149bef-c5e7-4133-a394-9cbac38d1e3f"
            }
        },
        {
            "cell_type": "code",
            "source": [
                "!dotnet interactive jupyter install"
            ],
            "metadata": {
                "azdata_cell_guid": "71e39e71-ffa9-4222-8759-0efb30f29a8e"
            },
            "outputs": [],
            "execution_count": null
        },
        {
            "cell_type": "markdown",
            "source": [
                "### You can verify the installation by running the following again\r\n",
                "\r\n",
                ""
            ],
            "metadata": {
                "azdata_cell_guid": "807919e5-dcd0-4417-b15a-957862f0d6c2"
            }
        },
        {
            "cell_type": "code",
            "source": [
                "import sys\r\n",
                "!{sys.executable} -m jupyter kernelspec list"
            ],
            "metadata": {
                "azdata_cell_guid": "1d576f51-cdb4-4a7d-aefd-c176acce7fb4"
            },
            "outputs": [],
            "execution_count": null
        },
        {
            "cell_type": "markdown",
            "source": [
                "## Next open ADS and enable the setting **Show All Kernels** (Preview)\r\n",
                "\r\n",
                "![Show Kernels](media/ShowKernels.png)"
            ],
            "metadata": {
                "azdata_cell_guid": "4fde8221-d891-48e2-8de7-c25b471f786e"
            }
        },
        {
            "cell_type": "markdown",
            "source": [
                "## Launch a New Notebook via File -> New Notebook or Keyboard Shortcuts and then **change** the kernel from SQL to any other kernel.\r\n",
                "\r\n",
                "  ![New Notebook](media/PreNotebook.png)"
            ],
            "metadata": {
                "azdata_cell_guid": "c5569fd3-b61f-4251-b842-652eee1fa5c4"
            }
        },
        {
            "cell_type": "markdown",
            "source": [
                "## Now verify you are able to see the new .Net Interactive Kernels (C#, F# and PowerShell)\n",
                "\n",
                "![After Changing Kernel](media/PostNotebook.png)"
            ],
            "metadata": {
                "azdata_cell_guid": "7c0b7a4f-44a0-4525-84fe-4cf7dc7a3d2a"
            }
        },
        {
            "cell_type": "markdown",
            "source": [
                "### Congrats now you are able to use .Net Interactive Kernels in ADS Notebooks!"
            ],
            "metadata": {
                "azdata_cell_guid": "910461a5-c6c8-4835-bedc-e86b66dbc6e3"
            }
        }
    ]
}